{
 "cells": [
  {
   "cell_type": "markdown",
   "metadata": {
    "jupyter": {
     "outputs_hidden": true
    }
   },
   "source": [
    "# Corpus analysis\n",
    "We will take a look at the provided corpora.\n",
    "In particular, we will analyse the label distribution of the pairs and the number of tokens per sentence.\n",
    "As a first step we will read in the corpora:"
   ]
  },
  {
   "cell_type": "code",
   "execution_count": 1,
   "metadata": {},
   "outputs": [],
   "source": [
    "import sys\n",
    "sys.path.append(\"../\")\n",
    "import os\n",
    "import pandas as pd\n",
    "import numpy as np\n",
    "from tlbiore.data import corpus_processor, utils\n",
    "\n",
    "import matplotlib.pyplot as plt\n",
    "%matplotlib inline"
   ]
  },
  {
   "cell_type": "code",
   "execution_count": 2,
   "metadata": {},
   "outputs": [],
   "source": [
    "aimed_train = '../data/raw/AIMed-train.xml'\n",
    "bioinfer_train = '../data/raw/BioInfer-train.xml'\n",
    "\n",
    "# Testdateien, für die wir die Predictions machen\n",
    "aimed_test = '../data/raw/AIMed-test.xml'\n",
    "bioinfer_test = '../data/raw/BioInfer-test.xml'\n",
    "\n",
    "data_path = '../data/ppi_hu/'"
   ]
  },
  {
   "cell_type": "code",
   "execution_count": 3,
   "metadata": {},
   "outputs": [],
   "source": [
    "aimed_train = corpus_processor.process_corpora(aimed_train)\n",
    "aimed_test = corpus_processor.process_corpora(aimed_test)\n",
    "\n",
    "bioinfer_train = corpus_processor.process_corpora(bioinfer_train)\n",
    "bioinfer_test = corpus_processor.process_corpora(bioinfer_test)"
   ]
  },
  {
   "cell_type": "markdown",
   "metadata": {},
   "source": [
    "## Label distribution in the data\n",
    "No we will look at the label distribution for each corpus:"
   ]
  },
  {
   "cell_type": "code",
   "execution_count": 4,
   "metadata": {},
   "outputs": [],
   "source": [
    "aimed_train_pairs = aimed_train.get_examples()\n",
    "bioinfer_train_pairs = bioinfer_train.get_examples()"
   ]
  },
  {
   "cell_type": "code",
   "execution_count": 5,
   "metadata": {},
   "outputs": [
    {
     "data": {
      "text/plain": [
       "False    3880\n",
       "True      800\n",
       "Name: label, dtype: int64"
      ]
     },
     "execution_count": 5,
     "metadata": {},
     "output_type": "execute_result"
    }
   ],
   "source": [
    "aimed_train_pairs.label.value_counts()"
   ]
  },
  {
   "cell_type": "code",
   "execution_count": 6,
   "metadata": {},
   "outputs": [
    {
     "data": {
      "text/plain": [
       "False    5934\n",
       "True     2109\n",
       "Name: label, dtype: int64"
      ]
     },
     "execution_count": 6,
     "metadata": {},
     "output_type": "execute_result"
    }
   ],
   "source": [
    "bioinfer_train_pairs.label.value_counts()"
   ]
  },
  {
   "cell_type": "markdown",
   "metadata": {},
   "source": [
    "## Sequence lengths in the data\n",
    "First, we will load the sentences."
   ]
  },
  {
   "cell_type": "code",
   "execution_count": 7,
   "metadata": {},
   "outputs": [],
   "source": [
    "def extract_texts(sentences):\n",
    "    return list(map(lambda x: x.text, sentences))"
   ]
  },
  {
   "cell_type": "code",
   "execution_count": 8,
   "metadata": {},
   "outputs": [],
   "source": [
    "aimed_train_sentences = extract_texts(aimed_train.get_sentences())\n",
    "aimed_test_sentences = extract_texts(aimed_test.get_sentences())\n",
    "\n",
    "bioinfer_train_sentences = extract_texts(bioinfer_train.get_sentences())\n",
    "bioinfer_test_sentences = extract_texts(bioinfer_test.get_sentences())"
   ]
  },
  {
   "cell_type": "markdown",
   "metadata": {},
   "source": [
    "Second, we will load our BertTokenizer. (We could swap out `bert-base-cased` with BioBERT or SciBERT.)"
   ]
  },
  {
   "cell_type": "code",
   "execution_count": 9,
   "metadata": {},
   "outputs": [],
   "source": [
    "from transformers import BertTokenizer\n",
    "\n",
    "tokenizer = BertTokenizer.from_pretrained('bert-base-cased', do_lower_case=False)"
   ]
  },
  {
   "cell_type": "markdown",
   "metadata": {},
   "source": [
    "Now we can tokenize our sentences and display the sequence lengths after tokenization. We add +1 to account for the CLS token that will be added in the BERT encoding workflow. (For some of the approaches we would actually have to account for the added positional markers, as well.)"
   ]
  },
  {
   "cell_type": "code",
   "execution_count": 10,
   "metadata": {},
   "outputs": [
    {
     "name": "stdout",
     "output_type": "stream",
     "text": [
      "The longest sequence in AIMed Train has 277 tokens.\n",
      "The longest sequence in AIMed Test has 172 tokens.\n"
     ]
    }
   ],
   "source": [
    "aimed_train_sent_lengths = np.array([len(tokenizer.tokenize(x))+1 for x in aimed_train_sentences])\n",
    "print(\"The longest sequence in AIMed Train has\", aimed_train_sent_lengths.max(), \"tokens.\")\n",
    "\n",
    "aimed_test_sent_lengths = np.array([len(tokenizer.tokenize(x))+1 for x in aimed_test_sentences])\n",
    "print(\"The longest sequence in AIMed Test has\", aimed_test_sent_lengths.max(), \"tokens.\") \n",
    "# print(aimed_test_sentences[aimed_test_sent_lengths.argmax()])"
   ]
  },
  {
   "cell_type": "code",
   "execution_count": 11,
   "metadata": {},
   "outputs": [
    {
     "name": "stdout",
     "output_type": "stream",
     "text": [
      "The longest sequence in BioInfer Train has 173 tokens.\n",
      "The longest sequence in BioInfer Test has 166 tokens.\n"
     ]
    }
   ],
   "source": [
    "bioinfer_train_sent_lengths = np.array([len(tokenizer.tokenize(x))+1 for x in bioinfer_train_sentences])\n",
    "print(\"The longest sequence in BioInfer Train has\", bioinfer_train_sent_lengths.max(), \"tokens.\")\n",
    "\n",
    "bioinfer_test_sent_lengths = np.array([len(tokenizer.tokenize(x))+1 for x in bioinfer_test_sentences])\n",
    "print(\"The longest sequence in BioInfer Test has\", bioinfer_test_sent_lengths.max(), \"tokens.\")"
   ]
  },
  {
   "cell_type": "markdown",
   "metadata": {},
   "source": [
    "As a plot, because why not:"
   ]
  },
  {
   "cell_type": "code",
   "execution_count": 24,
   "metadata": {},
   "outputs": [
    {
     "data": {
      "image/png": "[encoded data removed]",
      "text/plain": [
       "<Figure size 720x432 with 2 Axes>"
      ]
     },
     "metadata": {
      "needs_background": "light"
     },
     "output_type": "display_data"
    }
   ],
   "source": [
    "num_bins = 75\n",
    "fig, (ax1, ax2) = plt.subplots(nrows=1, ncols=2, sharex=True, sharey=True,figsize=(10,6))\n",
    "ax1.hist(aimed_train_sent_lengths, label='AIMed Train', bins=num_bins)\n",
    "ax1.hist(aimed_test_sent_lengths, label='AIMed Test', bins=num_bins, alpha=0.9)\n",
    "\n",
    "ax2.hist(bioinfer_train_sent_lengths, label='BioInfer Train', bins=num_bins)\n",
    "ax2.hist(bioinfer_test_sent_lengths, label='BioInfer Test', bins=num_bins, alpha=0.9)\n",
    "\n",
    "fig.text(0.5, 0.04, 'Number of tokens per sentence', ha='center')\n",
    "fig.text(0.04, 0.5, 'Number of sentences', va='center', rotation='vertical')\n",
    "\n",
    "ax1.legend()\n",
    "ax2.legend()\n",
    "\n",
    "fig.suptitle(\"Number of tokens per sentence in the corpora\")\n",
    "\n",
    "fig.savefig('SequenceLengths.png', dpi=300)"
   ]
  },
  {
   "cell_type": "markdown",
   "metadata": {},
   "source": [
    "As the longest observed sequence had length 277 (already accounting for the CLS token), we chose 286 as our maximum sequence length to allow for special positional tokens, etc."
   ]
  },
  {
   "cell_type": "code",
   "execution_count": null,
   "metadata": {},
   "outputs": [],
   "source": []
  }
 ],
 "metadata": {
  "kernelspec": {
   "display_name": "Python 3.6 (master)",
   "language": "python",
   "name": "master"
  },
  "language_info": {
   "codemirror_mode": {
    "name": "ipython",
    "version": 3
   },
   "file_extension": ".py",
   "mimetype": "text/x-python",
   "name": "python",
   "nbconvert_exporter": "python",
   "pygments_lexer": "ipython3",
   "version": "3.6.10"
  }
 },
 "nbformat": 4,
 "nbformat_minor": 4
}
