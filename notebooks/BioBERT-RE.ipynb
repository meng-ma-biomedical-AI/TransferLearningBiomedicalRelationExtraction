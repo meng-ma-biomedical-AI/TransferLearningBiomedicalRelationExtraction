{
 "cells": [
  {
   "cell_type": "markdown",
   "metadata": {
    "colab_type": "text",
    "id": "9P_hGVnSarez"
   },
   "source": [
    "# BioBERT für RE"
   ]
  },
  {
   "cell_type": "code",
   "execution_count": 1,
   "metadata": {},
   "outputs": [],
   "source": [
    "import sys\n",
    "sys.path.append(\"../\")"
   ]
  },
  {
   "cell_type": "code",
   "execution_count": 2,
   "metadata": {},
   "outputs": [
    {
     "data": {
      "text/plain": [
       "1"
      ]
     },
     "execution_count": 2,
     "metadata": {},
     "output_type": "execute_result"
    }
   ],
   "source": [
    "import os\n",
    "os.environ[\"CUDA_DEVICE_ORDER\"]=\"PCI_BUS_ID\"   # see issue #152\n",
    "os.environ[\"CUDA_VISIBLE_DEVICES\"]=\"0\"  # -1 to use the cpu\n",
    "import torch\n",
    "torch.cuda.device_count()"
   ]
  },
  {
   "cell_type": "code",
   "execution_count": 3,
   "metadata": {},
   "outputs": [
    {
     "name": "stderr",
     "output_type": "stream",
     "text": [
      "Using TensorFlow backend.\n"
     ]
    }
   ],
   "source": [
    "from tlbiore.models import utils\n",
    "from tlbiore.models.ppi_sequence_classifier import BertBiomedicalRE\n",
    "from pytorch_lightning import Trainer\n",
    "from pytorch_lightning.logging import TestTubeLogger\n",
    "\n",
    "MIN_EPOCHS = 2\n",
    "MAX_EPOCHS = 4\n",
    "BIO_BERT = '../biobert_v1.1._pubmed'\n",
    "\n",
    "args = utils.Arguments(bert=BIO_BERT, max_length=256, batch_size=16)"
   ]
  },
  {
   "cell_type": "code",
   "execution_count": 4,
   "metadata": {},
   "outputs": [],
   "source": [
    "bert_finetuner = BertBiomedicalRE()\n",
    "\n",
    "trainer = Trainer(max_nb_epochs=MAX_EPOCHS, min_nb_epochs=MIN_EPOCHS, gpus=1)    "
   ]
  },
  {
   "cell_type": "code",
   "execution_count": 5,
   "metadata": {},
   "outputs": [
    {
     "name": "stderr",
     "output_type": "stream",
     "text": [
      "Epoch 1:  91%|█████████▏| 644/705 [03:15<00:18,  3.24batch/s, batch_nb=643, gpu=0, loss=0.325, v_nb=1]\n",
      "Validating:   0%|          | 0/61 [00:00<?, ?batch/s]\u001b[A\n",
      "Epoch 1:  91%|█████████▏| 645/705 [03:15<00:14,  4.04batch/s, batch_nb=643, gpu=0, loss=0.325, v_nb=1]\n",
      "Epoch 1:  92%|█████████▏| 646/705 [03:15<00:11,  4.92batch/s, batch_nb=643, gpu=0, loss=0.325, v_nb=1]\n",
      "Epoch 1:  92%|█████████▏| 647/705 [03:15<00:09,  5.80batch/s, batch_nb=643, gpu=0, loss=0.325, v_nb=1]\n",
      "Epoch 1:  92%|█████████▏| 648/705 [03:16<00:08,  6.64batch/s, batch_nb=643, gpu=0, loss=0.325, v_nb=1]\n",
      "Epoch 1:  92%|█████████▏| 649/705 [03:16<00:07,  7.38batch/s, batch_nb=643, gpu=0, loss=0.325, v_nb=1]\n",
      "Epoch 1:  92%|█████████▏| 650/705 [03:16<00:06,  8.00batch/s, batch_nb=643, gpu=0, loss=0.325, v_nb=1]\n",
      "Epoch 1:  92%|█████████▏| 651/705 [03:16<00:06,  8.50batch/s, batch_nb=643, gpu=0, loss=0.325, v_nb=1]\n",
      "Epoch 1:  92%|█████████▏| 652/705 [03:16<00:05,  8.89batch/s, batch_nb=643, gpu=0, loss=0.325, v_nb=1]\n",
      "Epoch 1:  93%|█████████▎| 653/705 [03:16<00:05,  9.18batch/s, batch_nb=643, gpu=0, loss=0.325, v_nb=1]\n",
      "Epoch 1:  93%|█████████▎| 654/705 [03:16<00:05,  9.39batch/s, batch_nb=643, gpu=0, loss=0.325, v_nb=1]\n",
      "Epoch 1:  93%|█████████▎| 655/705 [03:16<00:05,  9.56batch/s, batch_nb=643, gpu=0, loss=0.325, v_nb=1]\n",
      "Epoch 1:  93%|█████████▎| 656/705 [03:16<00:05,  9.67batch/s, batch_nb=643, gpu=0, loss=0.325, v_nb=1]\n",
      "Epoch 1:  93%|█████████▎| 657/705 [03:16<00:04,  9.76batch/s, batch_nb=643, gpu=0, loss=0.325, v_nb=1]\n",
      "Epoch 1:  93%|█████████▎| 658/705 [03:17<00:04,  9.82batch/s, batch_nb=643, gpu=0, loss=0.325, v_nb=1]\n",
      "Epoch 1:  93%|█████████▎| 659/705 [03:17<00:04,  9.86batch/s, batch_nb=643, gpu=0, loss=0.325, v_nb=1]\n",
      "Epoch 1:  94%|█████████▎| 660/705 [03:17<00:04,  9.89batch/s, batch_nb=643, gpu=0, loss=0.325, v_nb=1]\n",
      "Epoch 1:  94%|█████████▍| 661/705 [03:17<00:04,  9.91batch/s, batch_nb=643, gpu=0, loss=0.325, v_nb=1]\n",
      "Epoch 1:  94%|█████████▍| 662/705 [03:17<00:04,  9.92batch/s, batch_nb=643, gpu=0, loss=0.325, v_nb=1]\n",
      "Epoch 1:  94%|█████████▍| 663/705 [03:17<00:04,  9.93batch/s, batch_nb=643, gpu=0, loss=0.325, v_nb=1]\n",
      "Epoch 1:  94%|█████████▍| 664/705 [03:17<00:04,  9.94batch/s, batch_nb=643, gpu=0, loss=0.325, v_nb=1]\n",
      "Epoch 1:  94%|█████████▍| 665/705 [03:17<00:04,  9.94batch/s, batch_nb=643, gpu=0, loss=0.325, v_nb=1]\n",
      "Epoch 1:  94%|█████████▍| 666/705 [03:17<00:03,  9.95batch/s, batch_nb=643, gpu=0, loss=0.325, v_nb=1]\n",
      "Epoch 1:  95%|█████████▍| 667/705 [03:17<00:03,  9.95batch/s, batch_nb=643, gpu=0, loss=0.325, v_nb=1]\n",
      "Epoch 1:  95%|█████████▍| 668/705 [03:18<00:03,  9.95batch/s, batch_nb=643, gpu=0, loss=0.325, v_nb=1]\n",
      "Epoch 1:  95%|█████████▍| 669/705 [03:18<00:03,  9.96batch/s, batch_nb=643, gpu=0, loss=0.325, v_nb=1]\n",
      "Epoch 1:  95%|█████████▌| 670/705 [03:18<00:03,  9.96batch/s, batch_nb=643, gpu=0, loss=0.325, v_nb=1]\n",
      "Epoch 1:  95%|█████████▌| 671/705 [03:18<00:03,  9.95batch/s, batch_nb=643, gpu=0, loss=0.325, v_nb=1]\n",
      "Epoch 1:  95%|█████████▌| 672/705 [03:18<00:03,  9.95batch/s, batch_nb=643, gpu=0, loss=0.325, v_nb=1]\n",
      "Epoch 1:  95%|█████████▌| 673/705 [03:18<00:03,  9.95batch/s, batch_nb=643, gpu=0, loss=0.325, v_nb=1]\n",
      "Epoch 1:  96%|█████████▌| 674/705 [03:18<00:03,  9.95batch/s, batch_nb=643, gpu=0, loss=0.325, v_nb=1]\n",
      "Epoch 1:  96%|█████████▌| 675/705 [03:18<00:03,  9.95batch/s, batch_nb=643, gpu=0, loss=0.325, v_nb=1]\n",
      "Epoch 1:  96%|█████████▌| 676/705 [03:18<00:02,  9.96batch/s, batch_nb=643, gpu=0, loss=0.325, v_nb=1]\n",
      "Epoch 1:  96%|█████████▌| 677/705 [03:18<00:02,  9.96batch/s, batch_nb=643, gpu=0, loss=0.325, v_nb=1]\n",
      "Epoch 1:  96%|█████████▌| 678/705 [03:19<00:02,  9.96batch/s, batch_nb=643, gpu=0, loss=0.325, v_nb=1]\n",
      "Epoch 1:  96%|█████████▋| 679/705 [03:19<00:02,  9.96batch/s, batch_nb=643, gpu=0, loss=0.325, v_nb=1]\n",
      "Epoch 1:  96%|█████████▋| 680/705 [03:19<00:02,  9.96batch/s, batch_nb=643, gpu=0, loss=0.325, v_nb=1]\n",
      "Epoch 1:  97%|█████████▋| 681/705 [03:19<00:02,  9.96batch/s, batch_nb=643, gpu=0, loss=0.325, v_nb=1]\n",
      "Epoch 1:  97%|█████████▋| 682/705 [03:19<00:02,  9.96batch/s, batch_nb=643, gpu=0, loss=0.325, v_nb=1]\n",
      "Epoch 1:  97%|█████████▋| 683/705 [03:19<00:02,  9.96batch/s, batch_nb=643, gpu=0, loss=0.325, v_nb=1]\n",
      "Epoch 1:  97%|█████████▋| 684/705 [03:19<00:02,  9.95batch/s, batch_nb=643, gpu=0, loss=0.325, v_nb=1]\n",
      "Epoch 1:  97%|█████████▋| 685/705 [03:19<00:02,  9.95batch/s, batch_nb=643, gpu=0, loss=0.325, v_nb=1]\n",
      "Epoch 1:  97%|█████████▋| 686/705 [03:19<00:01,  9.95batch/s, batch_nb=643, gpu=0, loss=0.325, v_nb=1]\n",
      "Epoch 1:  97%|█████████▋| 687/705 [03:19<00:01,  9.95batch/s, batch_nb=643, gpu=0, loss=0.325, v_nb=1]\n",
      "Epoch 1:  98%|█████████▊| 688/705 [03:20<00:01,  9.95batch/s, batch_nb=643, gpu=0, loss=0.325, v_nb=1]\n",
      "Epoch 1:  98%|█████████▊| 689/705 [03:20<00:01,  9.96batch/s, batch_nb=643, gpu=0, loss=0.325, v_nb=1]\n",
      "Epoch 1:  98%|█████████▊| 690/705 [03:20<00:01,  9.95batch/s, batch_nb=643, gpu=0, loss=0.325, v_nb=1]\n",
      "Epoch 1:  98%|█████████▊| 691/705 [03:20<00:01,  9.95batch/s, batch_nb=643, gpu=0, loss=0.325, v_nb=1]\n",
      "Epoch 1:  98%|█████████▊| 692/705 [03:20<00:01,  9.96batch/s, batch_nb=643, gpu=0, loss=0.325, v_nb=1]\n",
      "Epoch 1:  98%|█████████▊| 693/705 [03:20<00:01,  9.95batch/s, batch_nb=643, gpu=0, loss=0.325, v_nb=1]\n",
      "Epoch 1:  98%|█████████▊| 694/705 [03:20<00:01,  9.95batch/s, batch_nb=643, gpu=0, loss=0.325, v_nb=1]\n",
      "Epoch 1:  99%|█████████▊| 695/705 [03:20<00:01,  9.95batch/s, batch_nb=643, gpu=0, loss=0.325, v_nb=1]\n",
      "Epoch 1:  99%|█████████▊| 696/705 [03:20<00:00,  9.95batch/s, batch_nb=643, gpu=0, loss=0.325, v_nb=1]\n",
      "Epoch 1:  99%|█████████▉| 697/705 [03:20<00:00,  9.95batch/s, batch_nb=643, gpu=0, loss=0.325, v_nb=1]\n",
      "Epoch 1:  99%|█████████▉| 698/705 [03:21<00:00,  9.95batch/s, batch_nb=643, gpu=0, loss=0.325, v_nb=1]\n",
      "Epoch 1:  99%|█████████▉| 699/705 [03:21<00:00,  9.96batch/s, batch_nb=643, gpu=0, loss=0.325, v_nb=1]\n",
      "Epoch 1:  99%|█████████▉| 700/705 [03:21<00:00,  9.96batch/s, batch_nb=643, gpu=0, loss=0.325, v_nb=1]\n",
      "Epoch 1:  99%|█████████▉| 701/705 [03:21<00:00,  9.96batch/s, batch_nb=643, gpu=0, loss=0.325, v_nb=1]\n",
      "Epoch 1: 100%|█████████▉| 702/705 [03:21<00:00,  9.96batch/s, batch_nb=643, gpu=0, loss=0.325, v_nb=1]\n",
      "Epoch 1: 100%|█████████▉| 703/705 [03:21<00:00,  9.96batch/s, batch_nb=643, gpu=0, loss=0.325, v_nb=1]\n",
      "Epoch 1: 100%|██████████| 705/705 [03:21<00:00,  9.95batch/s, avg_val_acc=0.789, batch_nb=643, gpu=0, loss=0.325, v_nb=1, val_loss=0.467]\n",
      "                                                              \u001b[A/vol/fob-vol6/nebenf13/truongph/.virtualenvs/BioBert/lib64/python3.6/site-packages/pytorch_lightning/trainer/trainer_io.py:210: UserWarning: Did not find hyperparameters at model.hparams. Saving checkpoint without hyperparameters\n",
      "  \"Did not find hyperparameters at model.hparams. Saving checkpoint without\"\n",
      "Epoch 2:  91%|█████████▏| 644/705 [03:17<00:18,  3.24batch/s, avg_val_acc=0.789, batch_nb=643, gpu=0, loss=0.184, v_nb=1, val_loss=0.467]\n",
      "Validating:   0%|          | 0/61 [00:00<?, ?batch/s]\u001b[A\n",
      "Epoch 2:  91%|█████████▏| 645/705 [03:17<00:14,  4.04batch/s, avg_val_acc=0.789, batch_nb=643, gpu=0, loss=0.184, v_nb=1, val_loss=0.467]\n",
      "Epoch 2:  92%|█████████▏| 646/705 [03:17<00:11,  4.92batch/s, avg_val_acc=0.789, batch_nb=643, gpu=0, loss=0.184, v_nb=1, val_loss=0.467]\n",
      "Epoch 2:  92%|█████████▏| 647/705 [03:17<00:10,  5.80batch/s, avg_val_acc=0.789, batch_nb=643, gpu=0, loss=0.184, v_nb=1, val_loss=0.467]\n",
      "Epoch 2:  92%|█████████▏| 648/705 [03:17<00:08,  6.62batch/s, avg_val_acc=0.789, batch_nb=643, gpu=0, loss=0.184, v_nb=1, val_loss=0.467]\n",
      "Epoch 2:  92%|█████████▏| 649/705 [03:18<00:07,  7.36batch/s, avg_val_acc=0.789, batch_nb=643, gpu=0, loss=0.184, v_nb=1, val_loss=0.467]\n",
      "Epoch 2:  92%|█████████▏| 650/705 [03:18<00:06,  7.98batch/s, avg_val_acc=0.789, batch_nb=643, gpu=0, loss=0.184, v_nb=1, val_loss=0.467]\n",
      "Epoch 2:  92%|█████████▏| 651/705 [03:18<00:06,  8.48batch/s, avg_val_acc=0.789, batch_nb=643, gpu=0, loss=0.184, v_nb=1, val_loss=0.467]\n",
      "Epoch 2:  92%|█████████▏| 652/705 [03:18<00:05,  8.87batch/s, avg_val_acc=0.789, batch_nb=643, gpu=0, loss=0.184, v_nb=1, val_loss=0.467]\n",
      "Epoch 2:  93%|█████████▎| 653/705 [03:18<00:05,  9.15batch/s, avg_val_acc=0.789, batch_nb=643, gpu=0, loss=0.184, v_nb=1, val_loss=0.467]\n"
     ]
    },
    {
     "name": "stderr",
     "output_type": "stream",
     "text": [
      "Epoch 2:  93%|█████████▎| 654/705 [03:18<00:05,  9.38batch/s, avg_val_acc=0.789, batch_nb=643, gpu=0, loss=0.184, v_nb=1, val_loss=0.467]\n",
      "Epoch 2:  93%|█████████▎| 655/705 [03:18<00:05,  9.54batch/s, avg_val_acc=0.789, batch_nb=643, gpu=0, loss=0.184, v_nb=1, val_loss=0.467]\n",
      "Epoch 2:  93%|█████████▎| 656/705 [03:18<00:05,  9.66batch/s, avg_val_acc=0.789, batch_nb=643, gpu=0, loss=0.184, v_nb=1, val_loss=0.467]\n",
      "Epoch 2:  93%|█████████▎| 657/705 [03:18<00:04,  9.74batch/s, avg_val_acc=0.789, batch_nb=643, gpu=0, loss=0.184, v_nb=1, val_loss=0.467]\n",
      "Epoch 2:  93%|█████████▎| 658/705 [03:18<00:04,  9.77batch/s, avg_val_acc=0.789, batch_nb=643, gpu=0, loss=0.184, v_nb=1, val_loss=0.467]\n",
      "Epoch 2:  93%|█████████▎| 659/705 [03:19<00:04,  9.80batch/s, avg_val_acc=0.789, batch_nb=643, gpu=0, loss=0.184, v_nb=1, val_loss=0.467]\n",
      "Epoch 2:  94%|█████████▎| 660/705 [03:19<00:04,  9.82batch/s, avg_val_acc=0.789, batch_nb=643, gpu=0, loss=0.184, v_nb=1, val_loss=0.467]\n",
      "Epoch 2:  94%|█████████▍| 661/705 [03:19<00:04,  9.85batch/s, avg_val_acc=0.789, batch_nb=643, gpu=0, loss=0.184, v_nb=1, val_loss=0.467]\n",
      "Epoch 2:  94%|█████████▍| 662/705 [03:19<00:04,  9.87batch/s, avg_val_acc=0.789, batch_nb=643, gpu=0, loss=0.184, v_nb=1, val_loss=0.467]\n",
      "Epoch 2:  94%|█████████▍| 663/705 [03:19<00:04,  9.87batch/s, avg_val_acc=0.789, batch_nb=643, gpu=0, loss=0.184, v_nb=1, val_loss=0.467]\n",
      "Epoch 2:  94%|█████████▍| 664/705 [03:19<00:04,  9.89batch/s, avg_val_acc=0.789, batch_nb=643, gpu=0, loss=0.184, v_nb=1, val_loss=0.467]\n",
      "Epoch 2:  94%|█████████▍| 665/705 [03:19<00:04,  9.90batch/s, avg_val_acc=0.789, batch_nb=643, gpu=0, loss=0.184, v_nb=1, val_loss=0.467]\n",
      "Epoch 2:  94%|█████████▍| 666/705 [03:19<00:03,  9.91batch/s, avg_val_acc=0.789, batch_nb=643, gpu=0, loss=0.184, v_nb=1, val_loss=0.467]\n",
      "Epoch 2:  95%|█████████▍| 667/705 [03:19<00:03,  9.92batch/s, avg_val_acc=0.789, batch_nb=643, gpu=0, loss=0.184, v_nb=1, val_loss=0.467]\n",
      "Epoch 2:  95%|█████████▍| 668/705 [03:20<00:03,  9.92batch/s, avg_val_acc=0.789, batch_nb=643, gpu=0, loss=0.184, v_nb=1, val_loss=0.467]\n",
      "Epoch 2:  95%|█████████▍| 669/705 [03:20<00:03,  9.91batch/s, avg_val_acc=0.789, batch_nb=643, gpu=0, loss=0.184, v_nb=1, val_loss=0.467]\n",
      "Epoch 2:  95%|█████████▌| 670/705 [03:20<00:03,  9.92batch/s, avg_val_acc=0.789, batch_nb=643, gpu=0, loss=0.184, v_nb=1, val_loss=0.467]\n",
      "Epoch 2:  95%|█████████▌| 671/705 [03:20<00:03,  9.92batch/s, avg_val_acc=0.789, batch_nb=643, gpu=0, loss=0.184, v_nb=1, val_loss=0.467]\n",
      "Epoch 2:  95%|█████████▌| 672/705 [03:20<00:03,  9.91batch/s, avg_val_acc=0.789, batch_nb=643, gpu=0, loss=0.184, v_nb=1, val_loss=0.467]\n",
      "Epoch 2:  95%|█████████▌| 673/705 [03:20<00:03,  9.90batch/s, avg_val_acc=0.789, batch_nb=643, gpu=0, loss=0.184, v_nb=1, val_loss=0.467]\n",
      "Epoch 2:  96%|█████████▌| 674/705 [03:20<00:03,  9.91batch/s, avg_val_acc=0.789, batch_nb=643, gpu=0, loss=0.184, v_nb=1, val_loss=0.467]\n",
      "Epoch 2:  96%|█████████▌| 675/705 [03:20<00:03,  9.92batch/s, avg_val_acc=0.789, batch_nb=643, gpu=0, loss=0.184, v_nb=1, val_loss=0.467]\n",
      "Epoch 2:  96%|█████████▌| 676/705 [03:20<00:02,  9.92batch/s, avg_val_acc=0.789, batch_nb=643, gpu=0, loss=0.184, v_nb=1, val_loss=0.467]\n",
      "Epoch 2:  96%|█████████▌| 677/705 [03:20<00:02,  9.93batch/s, avg_val_acc=0.789, batch_nb=643, gpu=0, loss=0.184, v_nb=1, val_loss=0.467]\n",
      "Epoch 2:  96%|█████████▌| 678/705 [03:21<00:02,  9.92batch/s, avg_val_acc=0.789, batch_nb=643, gpu=0, loss=0.184, v_nb=1, val_loss=0.467]\n",
      "Epoch 2:  96%|█████████▋| 679/705 [03:21<00:02,  9.91batch/s, avg_val_acc=0.789, batch_nb=643, gpu=0, loss=0.184, v_nb=1, val_loss=0.467]\n",
      "Epoch 2:  96%|█████████▋| 680/705 [03:21<00:02,  9.91batch/s, avg_val_acc=0.789, batch_nb=643, gpu=0, loss=0.184, v_nb=1, val_loss=0.467]\n",
      "Epoch 2:  97%|█████████▋| 681/705 [03:21<00:02,  9.91batch/s, avg_val_acc=0.789, batch_nb=643, gpu=0, loss=0.184, v_nb=1, val_loss=0.467]\n",
      "Epoch 2:  97%|█████████▋| 682/705 [03:21<00:02,  9.91batch/s, avg_val_acc=0.789, batch_nb=643, gpu=0, loss=0.184, v_nb=1, val_loss=0.467]\n",
      "Epoch 2:  97%|█████████▋| 683/705 [03:21<00:02,  9.90batch/s, avg_val_acc=0.789, batch_nb=643, gpu=0, loss=0.184, v_nb=1, val_loss=0.467]\n",
      "Epoch 2:  97%|█████████▋| 684/705 [03:21<00:02,  9.91batch/s, avg_val_acc=0.789, batch_nb=643, gpu=0, loss=0.184, v_nb=1, val_loss=0.467]\n",
      "Epoch 2:  97%|█████████▋| 685/705 [03:21<00:02,  9.91batch/s, avg_val_acc=0.789, batch_nb=643, gpu=0, loss=0.184, v_nb=1, val_loss=0.467]\n",
      "Epoch 2:  97%|█████████▋| 686/705 [03:21<00:01,  9.91batch/s, avg_val_acc=0.789, batch_nb=643, gpu=0, loss=0.184, v_nb=1, val_loss=0.467]\n",
      "Epoch 2:  97%|█████████▋| 687/705 [03:21<00:01,  9.91batch/s, avg_val_acc=0.789, batch_nb=643, gpu=0, loss=0.184, v_nb=1, val_loss=0.467]\n",
      "Epoch 2:  98%|█████████▊| 688/705 [03:22<00:01,  9.91batch/s, avg_val_acc=0.789, batch_nb=643, gpu=0, loss=0.184, v_nb=1, val_loss=0.467]\n",
      "Epoch 2:  98%|█████████▊| 689/705 [03:22<00:01,  9.91batch/s, avg_val_acc=0.789, batch_nb=643, gpu=0, loss=0.184, v_nb=1, val_loss=0.467]\n",
      "Epoch 2:  98%|█████████▊| 690/705 [03:22<00:01,  9.91batch/s, avg_val_acc=0.789, batch_nb=643, gpu=0, loss=0.184, v_nb=1, val_loss=0.467]\n",
      "Epoch 2:  98%|█████████▊| 691/705 [03:22<00:01,  9.91batch/s, avg_val_acc=0.789, batch_nb=643, gpu=0, loss=0.184, v_nb=1, val_loss=0.467]\n",
      "Epoch 2:  98%|█████████▊| 692/705 [03:22<00:01,  9.91batch/s, avg_val_acc=0.789, batch_nb=643, gpu=0, loss=0.184, v_nb=1, val_loss=0.467]\n",
      "Epoch 2:  98%|█████████▊| 693/705 [03:22<00:01,  9.91batch/s, avg_val_acc=0.789, batch_nb=643, gpu=0, loss=0.184, v_nb=1, val_loss=0.467]\n",
      "Epoch 2:  98%|█████████▊| 694/705 [03:22<00:01,  9.91batch/s, avg_val_acc=0.789, batch_nb=643, gpu=0, loss=0.184, v_nb=1, val_loss=0.467]\n",
      "Epoch 2:  99%|█████████▊| 695/705 [03:22<00:01,  9.91batch/s, avg_val_acc=0.789, batch_nb=643, gpu=0, loss=0.184, v_nb=1, val_loss=0.467]\n",
      "Epoch 2:  99%|█████████▊| 696/705 [03:22<00:00,  9.91batch/s, avg_val_acc=0.789, batch_nb=643, gpu=0, loss=0.184, v_nb=1, val_loss=0.467]\n",
      "Epoch 2:  99%|█████████▉| 697/705 [03:22<00:00,  9.91batch/s, avg_val_acc=0.789, batch_nb=643, gpu=0, loss=0.184, v_nb=1, val_loss=0.467]\n",
      "Epoch 2:  99%|█████████▉| 698/705 [03:23<00:00,  9.91batch/s, avg_val_acc=0.789, batch_nb=643, gpu=0, loss=0.184, v_nb=1, val_loss=0.467]\n",
      "Epoch 2:  99%|█████████▉| 699/705 [03:23<00:00,  9.91batch/s, avg_val_acc=0.789, batch_nb=643, gpu=0, loss=0.184, v_nb=1, val_loss=0.467]\n",
      "Epoch 2:  99%|█████████▉| 700/705 [03:23<00:00,  9.90batch/s, avg_val_acc=0.789, batch_nb=643, gpu=0, loss=0.184, v_nb=1, val_loss=0.467]\n",
      "Epoch 2:  99%|█████████▉| 701/705 [03:23<00:00,  9.90batch/s, avg_val_acc=0.789, batch_nb=643, gpu=0, loss=0.184, v_nb=1, val_loss=0.467]\n",
      "Epoch 2: 100%|█████████▉| 702/705 [03:23<00:00,  9.90batch/s, avg_val_acc=0.789, batch_nb=643, gpu=0, loss=0.184, v_nb=1, val_loss=0.467]\n",
      "Epoch 2: 100%|█████████▉| 703/705 [03:23<00:00,  9.90batch/s, avg_val_acc=0.789, batch_nb=643, gpu=0, loss=0.184, v_nb=1, val_loss=0.467]\n",
      "Epoch 2: 100%|██████████| 705/705 [03:23<00:00,  9.90batch/s, avg_val_acc=0.846, batch_nb=643, gpu=0, loss=0.184, v_nb=1, val_loss=0.36] \n",
      "Epoch 3:  91%|█████████▏| 644/705 [03:18<00:18,  3.27batch/s, avg_val_acc=0.846, batch_nb=643, gpu=0, loss=0.109, v_nb=1, val_loss=0.36]\n",
      "Validating:   0%|          | 0/61 [00:00<?, ?batch/s]\u001b[A\n",
      "Epoch 3:  91%|█████████▏| 645/705 [03:18<00:14,  4.07batch/s, avg_val_acc=0.846, batch_nb=643, gpu=0, loss=0.109, v_nb=1, val_loss=0.36]\n",
      "Epoch 3:  92%|█████████▏| 646/705 [03:18<00:11,  4.95batch/s, avg_val_acc=0.846, batch_nb=643, gpu=0, loss=0.109, v_nb=1, val_loss=0.36]\n",
      "Epoch 3:  92%|█████████▏| 647/705 [03:18<00:09,  5.83batch/s, avg_val_acc=0.846, batch_nb=643, gpu=0, loss=0.109, v_nb=1, val_loss=0.36]\n",
      "Epoch 3:  92%|█████████▏| 648/705 [03:18<00:08,  6.66batch/s, avg_val_acc=0.846, batch_nb=643, gpu=0, loss=0.109, v_nb=1, val_loss=0.36]\n",
      "Epoch 3:  92%|█████████▏| 649/705 [03:18<00:07,  7.39batch/s, avg_val_acc=0.846, batch_nb=643, gpu=0, loss=0.109, v_nb=1, val_loss=0.36]\n",
      "Epoch 3:  92%|█████████▏| 650/705 [03:18<00:06,  8.00batch/s, avg_val_acc=0.846, batch_nb=643, gpu=0, loss=0.109, v_nb=1, val_loss=0.36]\n",
      "Epoch 3:  92%|█████████▏| 651/705 [03:18<00:06,  8.50batch/s, avg_val_acc=0.846, batch_nb=643, gpu=0, loss=0.109, v_nb=1, val_loss=0.36]\n"
     ]
    },
    {
     "name": "stderr",
     "output_type": "stream",
     "text": [
      "Epoch 3:  92%|█████████▏| 652/705 [03:18<00:05,  8.89batch/s, avg_val_acc=0.846, batch_nb=643, gpu=0, loss=0.109, v_nb=1, val_loss=0.36]\n",
      "Epoch 3:  93%|█████████▎| 653/705 [03:19<00:05,  9.16batch/s, avg_val_acc=0.846, batch_nb=643, gpu=0, loss=0.109, v_nb=1, val_loss=0.36]\n",
      "Epoch 3:  93%|█████████▎| 654/705 [03:19<00:05,  9.38batch/s, avg_val_acc=0.846, batch_nb=643, gpu=0, loss=0.109, v_nb=1, val_loss=0.36]\n",
      "Epoch 3:  93%|█████████▎| 655/705 [03:19<00:05,  9.54batch/s, avg_val_acc=0.846, batch_nb=643, gpu=0, loss=0.109, v_nb=1, val_loss=0.36]\n",
      "Epoch 3:  93%|█████████▎| 656/705 [03:19<00:05,  9.66batch/s, avg_val_acc=0.846, batch_nb=643, gpu=0, loss=0.109, v_nb=1, val_loss=0.36]\n",
      "Epoch 3:  93%|█████████▎| 657/705 [03:19<00:04,  9.75batch/s, avg_val_acc=0.846, batch_nb=643, gpu=0, loss=0.109, v_nb=1, val_loss=0.36]\n",
      "Epoch 3:  93%|█████████▎| 658/705 [03:19<00:04,  9.81batch/s, avg_val_acc=0.846, batch_nb=643, gpu=0, loss=0.109, v_nb=1, val_loss=0.36]\n",
      "Epoch 3:  93%|█████████▎| 659/705 [03:19<00:04,  9.85batch/s, avg_val_acc=0.846, batch_nb=643, gpu=0, loss=0.109, v_nb=1, val_loss=0.36]\n",
      "Epoch 3:  94%|█████████▎| 660/705 [03:19<00:04,  9.88batch/s, avg_val_acc=0.846, batch_nb=643, gpu=0, loss=0.109, v_nb=1, val_loss=0.36]\n",
      "Epoch 3:  94%|█████████▍| 661/705 [03:19<00:04,  9.90batch/s, avg_val_acc=0.846, batch_nb=643, gpu=0, loss=0.109, v_nb=1, val_loss=0.36]\n",
      "Epoch 3:  94%|█████████▍| 662/705 [03:19<00:04,  9.91batch/s, avg_val_acc=0.846, batch_nb=643, gpu=0, loss=0.109, v_nb=1, val_loss=0.36]\n",
      "Epoch 3:  94%|█████████▍| 663/705 [03:20<00:04,  9.90batch/s, avg_val_acc=0.846, batch_nb=643, gpu=0, loss=0.109, v_nb=1, val_loss=0.36]\n",
      "Epoch 3:  94%|█████████▍| 664/705 [03:20<00:04,  9.92batch/s, avg_val_acc=0.846, batch_nb=643, gpu=0, loss=0.109, v_nb=1, val_loss=0.36]\n",
      "Epoch 3:  94%|█████████▍| 665/705 [03:20<00:04,  9.92batch/s, avg_val_acc=0.846, batch_nb=643, gpu=0, loss=0.109, v_nb=1, val_loss=0.36]\n",
      "Epoch 3:  94%|█████████▍| 666/705 [03:20<00:03,  9.93batch/s, avg_val_acc=0.846, batch_nb=643, gpu=0, loss=0.109, v_nb=1, val_loss=0.36]\n",
      "Epoch 3:  95%|█████████▍| 667/705 [03:20<00:03,  9.93batch/s, avg_val_acc=0.846, batch_nb=643, gpu=0, loss=0.109, v_nb=1, val_loss=0.36]\n",
      "Epoch 3:  95%|█████████▍| 668/705 [03:20<00:03,  9.94batch/s, avg_val_acc=0.846, batch_nb=643, gpu=0, loss=0.109, v_nb=1, val_loss=0.36]\n",
      "Epoch 3:  95%|█████████▍| 669/705 [03:20<00:03,  9.95batch/s, avg_val_acc=0.846, batch_nb=643, gpu=0, loss=0.109, v_nb=1, val_loss=0.36]\n",
      "Epoch 3:  95%|█████████▌| 670/705 [03:20<00:03,  9.95batch/s, avg_val_acc=0.846, batch_nb=643, gpu=0, loss=0.109, v_nb=1, val_loss=0.36]\n",
      "Epoch 3:  95%|█████████▌| 671/705 [03:20<00:03,  9.94batch/s, avg_val_acc=0.846, batch_nb=643, gpu=0, loss=0.109, v_nb=1, val_loss=0.36]\n",
      "Epoch 3:  95%|█████████▌| 672/705 [03:21<00:03,  9.94batch/s, avg_val_acc=0.846, batch_nb=643, gpu=0, loss=0.109, v_nb=1, val_loss=0.36]\n",
      "Epoch 3:  95%|█████████▌| 673/705 [03:21<00:03,  9.94batch/s, avg_val_acc=0.846, batch_nb=643, gpu=0, loss=0.109, v_nb=1, val_loss=0.36]\n",
      "Epoch 3:  96%|█████████▌| 674/705 [03:21<00:03,  9.94batch/s, avg_val_acc=0.846, batch_nb=643, gpu=0, loss=0.109, v_nb=1, val_loss=0.36]\n",
      "Epoch 3:  96%|█████████▌| 675/705 [03:21<00:03,  9.94batch/s, avg_val_acc=0.846, batch_nb=643, gpu=0, loss=0.109, v_nb=1, val_loss=0.36]\n",
      "Epoch 3:  96%|█████████▌| 676/705 [03:21<00:02,  9.94batch/s, avg_val_acc=0.846, batch_nb=643, gpu=0, loss=0.109, v_nb=1, val_loss=0.36]\n",
      "Epoch 3:  96%|█████████▌| 677/705 [03:21<00:02,  9.95batch/s, avg_val_acc=0.846, batch_nb=643, gpu=0, loss=0.109, v_nb=1, val_loss=0.36]\n",
      "Epoch 3:  96%|█████████▌| 678/705 [03:21<00:02,  9.95batch/s, avg_val_acc=0.846, batch_nb=643, gpu=0, loss=0.109, v_nb=1, val_loss=0.36]\n",
      "Epoch 3:  96%|█████████▋| 679/705 [03:21<00:02,  9.95batch/s, avg_val_acc=0.846, batch_nb=643, gpu=0, loss=0.109, v_nb=1, val_loss=0.36]\n",
      "Epoch 3:  96%|█████████▋| 680/705 [03:21<00:02,  9.95batch/s, avg_val_acc=0.846, batch_nb=643, gpu=0, loss=0.109, v_nb=1, val_loss=0.36]\n",
      "Epoch 3:  97%|█████████▋| 681/705 [03:21<00:02,  9.94batch/s, avg_val_acc=0.846, batch_nb=643, gpu=0, loss=0.109, v_nb=1, val_loss=0.36]\n",
      "Epoch 3:  97%|█████████▋| 682/705 [03:22<00:02,  9.94batch/s, avg_val_acc=0.846, batch_nb=643, gpu=0, loss=0.109, v_nb=1, val_loss=0.36]\n",
      "Epoch 3:  97%|█████████▋| 683/705 [03:22<00:02,  9.94batch/s, avg_val_acc=0.846, batch_nb=643, gpu=0, loss=0.109, v_nb=1, val_loss=0.36]\n",
      "Epoch 3:  97%|█████████▋| 684/705 [03:22<00:02,  9.93batch/s, avg_val_acc=0.846, batch_nb=643, gpu=0, loss=0.109, v_nb=1, val_loss=0.36]\n",
      "Epoch 3:  97%|█████████▋| 685/705 [03:22<00:02,  9.94batch/s, avg_val_acc=0.846, batch_nb=643, gpu=0, loss=0.109, v_nb=1, val_loss=0.36]\n",
      "Epoch 3:  97%|█████████▋| 686/705 [03:22<00:01,  9.94batch/s, avg_val_acc=0.846, batch_nb=643, gpu=0, loss=0.109, v_nb=1, val_loss=0.36]\n",
      "Epoch 3:  97%|█████████▋| 687/705 [03:22<00:01,  9.95batch/s, avg_val_acc=0.846, batch_nb=643, gpu=0, loss=0.109, v_nb=1, val_loss=0.36]\n",
      "Epoch 3:  98%|█████████▊| 688/705 [03:22<00:01,  9.95batch/s, avg_val_acc=0.846, batch_nb=643, gpu=0, loss=0.109, v_nb=1, val_loss=0.36]\n",
      "Epoch 3:  98%|█████████▊| 689/705 [03:22<00:01,  9.95batch/s, avg_val_acc=0.846, batch_nb=643, gpu=0, loss=0.109, v_nb=1, val_loss=0.36]\n",
      "Epoch 3:  98%|█████████▊| 690/705 [03:22<00:01,  9.94batch/s, avg_val_acc=0.846, batch_nb=643, gpu=0, loss=0.109, v_nb=1, val_loss=0.36]\n",
      "Epoch 3:  98%|█████████▊| 691/705 [03:22<00:01,  9.93batch/s, avg_val_acc=0.846, batch_nb=643, gpu=0, loss=0.109, v_nb=1, val_loss=0.36]\n",
      "Epoch 3:  98%|█████████▊| 692/705 [03:23<00:01,  9.94batch/s, avg_val_acc=0.846, batch_nb=643, gpu=0, loss=0.109, v_nb=1, val_loss=0.36]\n",
      "Epoch 3:  98%|█████████▊| 693/705 [03:23<00:01,  9.94batch/s, avg_val_acc=0.846, batch_nb=643, gpu=0, loss=0.109, v_nb=1, val_loss=0.36]\n",
      "Epoch 3:  98%|█████████▊| 694/705 [03:23<00:01,  9.94batch/s, avg_val_acc=0.846, batch_nb=643, gpu=0, loss=0.109, v_nb=1, val_loss=0.36]\n",
      "Epoch 3:  99%|█████████▊| 695/705 [03:23<00:01,  9.94batch/s, avg_val_acc=0.846, batch_nb=643, gpu=0, loss=0.109, v_nb=1, val_loss=0.36]\n",
      "Epoch 3:  99%|█████████▊| 696/705 [03:23<00:00,  9.94batch/s, avg_val_acc=0.846, batch_nb=643, gpu=0, loss=0.109, v_nb=1, val_loss=0.36]\n",
      "Epoch 3:  99%|█████████▉| 697/705 [03:23<00:00,  9.94batch/s, avg_val_acc=0.846, batch_nb=643, gpu=0, loss=0.109, v_nb=1, val_loss=0.36]\n",
      "Epoch 3:  99%|█████████▉| 698/705 [03:23<00:00,  9.94batch/s, avg_val_acc=0.846, batch_nb=643, gpu=0, loss=0.109, v_nb=1, val_loss=0.36]\n",
      "Epoch 3:  99%|█████████▉| 699/705 [03:23<00:00,  9.94batch/s, avg_val_acc=0.846, batch_nb=643, gpu=0, loss=0.109, v_nb=1, val_loss=0.36]\n",
      "Epoch 3:  99%|█████████▉| 700/705 [03:23<00:00,  9.94batch/s, avg_val_acc=0.846, batch_nb=643, gpu=0, loss=0.109, v_nb=1, val_loss=0.36]\n",
      "Epoch 3:  99%|█████████▉| 701/705 [03:23<00:00,  9.94batch/s, avg_val_acc=0.846, batch_nb=643, gpu=0, loss=0.109, v_nb=1, val_loss=0.36]\n",
      "Epoch 3: 100%|█████████▉| 702/705 [03:24<00:00,  9.93batch/s, avg_val_acc=0.846, batch_nb=643, gpu=0, loss=0.109, v_nb=1, val_loss=0.36]\n",
      "Epoch 3: 100%|█████████▉| 703/705 [03:24<00:00,  9.93batch/s, avg_val_acc=0.846, batch_nb=643, gpu=0, loss=0.109, v_nb=1, val_loss=0.36]\n",
      "Epoch 3: 100%|██████████| 705/705 [03:24<00:00,  9.94batch/s, avg_val_acc=0.855, batch_nb=643, gpu=0, loss=0.109, v_nb=1, val_loss=0.465]\n",
      "Epoch 4:  91%|█████████▏| 644/705 [03:19<00:18,  3.22batch/s, avg_val_acc=0.855, batch_nb=643, gpu=0, loss=0.091, v_nb=1, val_loss=0.465]\n",
      "Validating:   0%|          | 0/61 [00:00<?, ?batch/s]\u001b[A\n",
      "Epoch 4:  91%|█████████▏| 645/705 [03:19<00:14,  4.03batch/s, avg_val_acc=0.855, batch_nb=643, gpu=0, loss=0.091, v_nb=1, val_loss=0.465]\n",
      "Epoch 4:  92%|█████████▏| 646/705 [03:19<00:12,  4.90batch/s, avg_val_acc=0.855, batch_nb=643, gpu=0, loss=0.091, v_nb=1, val_loss=0.465]\n",
      "Epoch 4:  92%|█████████▏| 647/705 [03:19<00:10,  5.78batch/s, avg_val_acc=0.855, batch_nb=643, gpu=0, loss=0.091, v_nb=1, val_loss=0.465]\n",
      "Epoch 4:  92%|█████████▏| 648/705 [03:19<00:08,  6.61batch/s, avg_val_acc=0.855, batch_nb=643, gpu=0, loss=0.091, v_nb=1, val_loss=0.465]\n",
      "Epoch 4:  92%|█████████▏| 649/705 [03:19<00:07,  7.35batch/s, avg_val_acc=0.855, batch_nb=643, gpu=0, loss=0.091, v_nb=1, val_loss=0.465]\n"
     ]
    },
    {
     "name": "stderr",
     "output_type": "stream",
     "text": [
      "Epoch 4:  92%|█████████▏| 650/705 [03:19<00:06,  7.97batch/s, avg_val_acc=0.855, batch_nb=643, gpu=0, loss=0.091, v_nb=1, val_loss=0.465]\n",
      "Epoch 4:  92%|█████████▏| 651/705 [03:20<00:06,  8.48batch/s, avg_val_acc=0.855, batch_nb=643, gpu=0, loss=0.091, v_nb=1, val_loss=0.465]\n",
      "Epoch 4:  92%|█████████▏| 652/705 [03:20<00:05,  8.87batch/s, avg_val_acc=0.855, batch_nb=643, gpu=0, loss=0.091, v_nb=1, val_loss=0.465]\n",
      "Epoch 4:  93%|█████████▎| 653/705 [03:20<00:05,  9.15batch/s, avg_val_acc=0.855, batch_nb=643, gpu=0, loss=0.091, v_nb=1, val_loss=0.465]\n",
      "Epoch 4:  93%|█████████▎| 654/705 [03:20<00:05,  9.38batch/s, avg_val_acc=0.855, batch_nb=643, gpu=0, loss=0.091, v_nb=1, val_loss=0.465]\n",
      "Epoch 4:  93%|█████████▎| 655/705 [03:20<00:05,  9.55batch/s, avg_val_acc=0.855, batch_nb=643, gpu=0, loss=0.091, v_nb=1, val_loss=0.465]\n",
      "Epoch 4:  93%|█████████▎| 656/705 [03:20<00:05,  9.67batch/s, avg_val_acc=0.855, batch_nb=643, gpu=0, loss=0.091, v_nb=1, val_loss=0.465]\n",
      "Epoch 4:  93%|█████████▎| 657/705 [03:20<00:04,  9.75batch/s, avg_val_acc=0.855, batch_nb=643, gpu=0, loss=0.091, v_nb=1, val_loss=0.465]\n",
      "Epoch 4:  93%|█████████▎| 658/705 [03:20<00:04,  9.81batch/s, avg_val_acc=0.855, batch_nb=643, gpu=0, loss=0.091, v_nb=1, val_loss=0.465]\n",
      "Epoch 4:  93%|█████████▎| 659/705 [03:20<00:04,  9.82batch/s, avg_val_acc=0.855, batch_nb=643, gpu=0, loss=0.091, v_nb=1, val_loss=0.465]\n",
      "Epoch 4:  94%|█████████▎| 660/705 [03:20<00:04,  9.85batch/s, avg_val_acc=0.855, batch_nb=643, gpu=0, loss=0.091, v_nb=1, val_loss=0.465]\n",
      "Epoch 4:  94%|█████████▍| 661/705 [03:21<00:04,  9.86batch/s, avg_val_acc=0.855, batch_nb=643, gpu=0, loss=0.091, v_nb=1, val_loss=0.465]\n",
      "Epoch 4:  94%|█████████▍| 662/705 [03:21<00:04,  9.87batch/s, avg_val_acc=0.855, batch_nb=643, gpu=0, loss=0.091, v_nb=1, val_loss=0.465]\n",
      "Epoch 4:  94%|█████████▍| 663/705 [03:21<00:04,  9.87batch/s, avg_val_acc=0.855, batch_nb=643, gpu=0, loss=0.091, v_nb=1, val_loss=0.465]\n",
      "Epoch 4:  94%|█████████▍| 664/705 [03:21<00:04,  9.88batch/s, avg_val_acc=0.855, batch_nb=643, gpu=0, loss=0.091, v_nb=1, val_loss=0.465]\n",
      "Epoch 4:  94%|█████████▍| 665/705 [03:21<00:04,  9.89batch/s, avg_val_acc=0.855, batch_nb=643, gpu=0, loss=0.091, v_nb=1, val_loss=0.465]\n",
      "Epoch 4:  94%|█████████▍| 666/705 [03:21<00:03,  9.90batch/s, avg_val_acc=0.855, batch_nb=643, gpu=0, loss=0.091, v_nb=1, val_loss=0.465]\n",
      "Epoch 4:  95%|█████████▍| 667/705 [03:21<00:03,  9.90batch/s, avg_val_acc=0.855, batch_nb=643, gpu=0, loss=0.091, v_nb=1, val_loss=0.465]\n",
      "Epoch 4:  95%|█████████▍| 668/705 [03:21<00:03,  9.91batch/s, avg_val_acc=0.855, batch_nb=643, gpu=0, loss=0.091, v_nb=1, val_loss=0.465]\n",
      "Epoch 4:  95%|█████████▍| 669/705 [03:21<00:03,  9.91batch/s, avg_val_acc=0.855, batch_nb=643, gpu=0, loss=0.091, v_nb=1, val_loss=0.465]\n",
      "Epoch 4:  95%|█████████▌| 670/705 [03:21<00:03,  9.90batch/s, avg_val_acc=0.855, batch_nb=643, gpu=0, loss=0.091, v_nb=1, val_loss=0.465]\n",
      "Epoch 4:  95%|█████████▌| 671/705 [03:22<00:03,  9.90batch/s, avg_val_acc=0.855, batch_nb=643, gpu=0, loss=0.091, v_nb=1, val_loss=0.465]\n",
      "Epoch 4:  95%|█████████▌| 672/705 [03:22<00:03,  9.89batch/s, avg_val_acc=0.855, batch_nb=643, gpu=0, loss=0.091, v_nb=1, val_loss=0.465]\n",
      "Epoch 4:  95%|█████████▌| 673/705 [03:22<00:03,  9.90batch/s, avg_val_acc=0.855, batch_nb=643, gpu=0, loss=0.091, v_nb=1, val_loss=0.465]\n",
      "Epoch 4:  96%|█████████▌| 674/705 [03:22<00:03,  9.89batch/s, avg_val_acc=0.855, batch_nb=643, gpu=0, loss=0.091, v_nb=1, val_loss=0.465]\n",
      "Epoch 4:  96%|█████████▌| 675/705 [03:22<00:03,  9.89batch/s, avg_val_acc=0.855, batch_nb=643, gpu=0, loss=0.091, v_nb=1, val_loss=0.465]\n",
      "Epoch 4:  96%|█████████▌| 676/705 [03:22<00:02,  9.90batch/s, avg_val_acc=0.855, batch_nb=643, gpu=0, loss=0.091, v_nb=1, val_loss=0.465]\n",
      "Epoch 4:  96%|█████████▌| 677/705 [03:22<00:02,  9.90batch/s, avg_val_acc=0.855, batch_nb=643, gpu=0, loss=0.091, v_nb=1, val_loss=0.465]\n",
      "Epoch 4:  96%|█████████▌| 678/705 [03:22<00:02,  9.90batch/s, avg_val_acc=0.855, batch_nb=643, gpu=0, loss=0.091, v_nb=1, val_loss=0.465]\n",
      "Epoch 4:  96%|█████████▋| 679/705 [03:22<00:02,  9.90batch/s, avg_val_acc=0.855, batch_nb=643, gpu=0, loss=0.091, v_nb=1, val_loss=0.465]\n",
      "Epoch 4:  96%|█████████▋| 680/705 [03:22<00:02,  9.90batch/s, avg_val_acc=0.855, batch_nb=643, gpu=0, loss=0.091, v_nb=1, val_loss=0.465]\n",
      "Epoch 4:  97%|█████████▋| 681/705 [03:23<00:02,  9.90batch/s, avg_val_acc=0.855, batch_nb=643, gpu=0, loss=0.091, v_nb=1, val_loss=0.465]\n",
      "Epoch 4:  97%|█████████▋| 682/705 [03:23<00:02,  9.90batch/s, avg_val_acc=0.855, batch_nb=643, gpu=0, loss=0.091, v_nb=1, val_loss=0.465]\n",
      "Epoch 4:  97%|█████████▋| 683/705 [03:23<00:02,  9.89batch/s, avg_val_acc=0.855, batch_nb=643, gpu=0, loss=0.091, v_nb=1, val_loss=0.465]\n",
      "Epoch 4:  97%|█████████▋| 684/705 [03:23<00:02,  9.89batch/s, avg_val_acc=0.855, batch_nb=643, gpu=0, loss=0.091, v_nb=1, val_loss=0.465]\n",
      "Epoch 4:  97%|█████████▋| 685/705 [03:23<00:02,  9.90batch/s, avg_val_acc=0.855, batch_nb=643, gpu=0, loss=0.091, v_nb=1, val_loss=0.465]\n",
      "Epoch 4:  97%|█████████▋| 686/705 [03:23<00:01,  9.90batch/s, avg_val_acc=0.855, batch_nb=643, gpu=0, loss=0.091, v_nb=1, val_loss=0.465]\n",
      "Epoch 4:  97%|█████████▋| 687/705 [03:23<00:01,  9.90batch/s, avg_val_acc=0.855, batch_nb=643, gpu=0, loss=0.091, v_nb=1, val_loss=0.465]\n",
      "Epoch 4:  98%|█████████▊| 688/705 [03:23<00:01,  9.90batch/s, avg_val_acc=0.855, batch_nb=643, gpu=0, loss=0.091, v_nb=1, val_loss=0.465]\n",
      "Epoch 4:  98%|█████████▊| 689/705 [03:23<00:01,  9.90batch/s, avg_val_acc=0.855, batch_nb=643, gpu=0, loss=0.091, v_nb=1, val_loss=0.465]\n",
      "Epoch 4:  98%|█████████▊| 690/705 [03:24<00:01,  9.90batch/s, avg_val_acc=0.855, batch_nb=643, gpu=0, loss=0.091, v_nb=1, val_loss=0.465]\n",
      "Epoch 4:  98%|█████████▊| 691/705 [03:24<00:01,  9.91batch/s, avg_val_acc=0.855, batch_nb=643, gpu=0, loss=0.091, v_nb=1, val_loss=0.465]\n",
      "Epoch 4:  98%|█████████▊| 692/705 [03:24<00:01,  9.90batch/s, avg_val_acc=0.855, batch_nb=643, gpu=0, loss=0.091, v_nb=1, val_loss=0.465]\n",
      "Epoch 4:  98%|█████████▊| 693/705 [03:24<00:01,  9.90batch/s, avg_val_acc=0.855, batch_nb=643, gpu=0, loss=0.091, v_nb=1, val_loss=0.465]\n",
      "Epoch 4:  98%|█████████▊| 694/705 [03:24<00:01,  9.90batch/s, avg_val_acc=0.855, batch_nb=643, gpu=0, loss=0.091, v_nb=1, val_loss=0.465]\n",
      "Epoch 4:  99%|█████████▊| 695/705 [03:24<00:01,  9.90batch/s, avg_val_acc=0.855, batch_nb=643, gpu=0, loss=0.091, v_nb=1, val_loss=0.465]\n",
      "Epoch 4:  99%|█████████▊| 696/705 [03:24<00:00,  9.90batch/s, avg_val_acc=0.855, batch_nb=643, gpu=0, loss=0.091, v_nb=1, val_loss=0.465]\n",
      "Epoch 4:  99%|█████████▉| 697/705 [03:24<00:00,  9.90batch/s, avg_val_acc=0.855, batch_nb=643, gpu=0, loss=0.091, v_nb=1, val_loss=0.465]\n",
      "Epoch 4:  99%|█████████▉| 698/705 [03:24<00:00,  9.88batch/s, avg_val_acc=0.855, batch_nb=643, gpu=0, loss=0.091, v_nb=1, val_loss=0.465]\n",
      "Epoch 4:  99%|█████████▉| 699/705 [03:24<00:00,  9.88batch/s, avg_val_acc=0.855, batch_nb=643, gpu=0, loss=0.091, v_nb=1, val_loss=0.465]\n",
      "Epoch 4:  99%|█████████▉| 700/705 [03:25<00:00,  9.89batch/s, avg_val_acc=0.855, batch_nb=643, gpu=0, loss=0.091, v_nb=1, val_loss=0.465]\n",
      "Epoch 4:  99%|█████████▉| 701/705 [03:25<00:00,  9.90batch/s, avg_val_acc=0.855, batch_nb=643, gpu=0, loss=0.091, v_nb=1, val_loss=0.465]\n",
      "Epoch 4: 100%|█████████▉| 702/705 [03:25<00:00,  9.90batch/s, avg_val_acc=0.855, batch_nb=643, gpu=0, loss=0.091, v_nb=1, val_loss=0.465]\n",
      "Epoch 4: 100%|█████████▉| 703/705 [03:25<00:00,  9.90batch/s, avg_val_acc=0.855, batch_nb=643, gpu=0, loss=0.091, v_nb=1, val_loss=0.465]\n",
      "Epoch 4: 100%|██████████| 705/705 [03:25<00:00,  9.91batch/s, avg_val_acc=0.871, batch_nb=643, gpu=0, loss=0.091, v_nb=1, val_loss=0.437]\n",
      "Epoch 4: 100%|██████████| 705/705 [03:25<00:00,  3.43batch/s, avg_val_acc=0.871, batch_nb=643, gpu=0, loss=0.091, v_nb=1, val_loss=0.437]\n"
     ]
    },
    {
     "data": {
      "text/plain": [
       "1"
      ]
     },
     "execution_count": 5,
     "metadata": {},
     "output_type": "execute_result"
    }
   ],
   "source": [
    "trainer.fit(bert_finetuner) "
   ]
  },
  {
   "cell_type": "code",
   "execution_count": 6,
   "metadata": {},
   "outputs": [
    {
     "name": "stderr",
     "output_type": "stream",
     "text": [
      "Testing:   5%|▌         | 5/91 [00:00<00:08,  9.98batch/s]/vol/fob-vol6/nebenf13/truongph/.virtualenvs/BioBert/lib64/python3.6/site-packages/sklearn/metrics/classification.py:1145: UndefinedMetricWarning: Recall and F-score are ill-defined and being set to 0.0 in labels with no true samples.\n",
      "  'recall', 'true', average, warn_for)\n",
      "Testing:  11%|█         | 10/91 [00:01<00:08,  9.85batch/s]/vol/fob-vol6/nebenf13/truongph/.virtualenvs/BioBert/lib64/python3.6/site-packages/sklearn/metrics/classification.py:1143: UndefinedMetricWarning: Precision and F-score are ill-defined and being set to 0.0 in labels with no predicted samples.\n",
      "  'precision', 'predicted', average, warn_for)\n",
      "Testing:  99%|█████████▉| 90/91 [00:09<00:00, 10.01batch/s]"
     ]
    },
    {
     "ename": "RuntimeError",
     "evalue": "invalid argument 0: Sizes of tensors must match except in dimension 0. Got 2 and 1 in dimension 1 at /pytorch/aten/src/TH/generic/THTensor.cpp:689",
     "output_type": "error",
     "traceback": [
      "\u001b[0;31m---------------------------------------------------------------------------\u001b[0m",
      "\u001b[0;31mRuntimeError\u001b[0m                              Traceback (most recent call last)",
      "\u001b[0;32m<ipython-input-6-24edee734c4e>\u001b[0m in \u001b[0;36m<module>\u001b[0;34m\u001b[0m\n\u001b[0;32m----> 1\u001b[0;31m \u001b[0mtrainer\u001b[0m\u001b[0;34m.\u001b[0m\u001b[0mtest\u001b[0m\u001b[0;34m(\u001b[0m\u001b[0;34m)\u001b[0m\u001b[0;34m\u001b[0m\u001b[0;34m\u001b[0m\u001b[0m\n\u001b[0m",
      "\u001b[0;32m~/.virtualenvs/BioBert/lib64/python3.6/site-packages/pytorch_lightning/trainer/trainer.py\u001b[0m in \u001b[0;36mtest\u001b[0;34m(self, model)\u001b[0m\n\u001b[1;32m    476\u001b[0m             \u001b[0mself\u001b[0m\u001b[0;34m.\u001b[0m\u001b[0mfit\u001b[0m\u001b[0;34m(\u001b[0m\u001b[0mmodel\u001b[0m\u001b[0;34m)\u001b[0m\u001b[0;34m\u001b[0m\u001b[0;34m\u001b[0m\u001b[0m\n\u001b[1;32m    477\u001b[0m         \u001b[0;32melse\u001b[0m\u001b[0;34m:\u001b[0m\u001b[0;34m\u001b[0m\u001b[0;34m\u001b[0m\u001b[0m\n\u001b[0;32m--> 478\u001b[0;31m             \u001b[0mself\u001b[0m\u001b[0;34m.\u001b[0m\u001b[0mrun_evaluation\u001b[0m\u001b[0;34m(\u001b[0m\u001b[0mtest\u001b[0m\u001b[0;34m=\u001b[0m\u001b[0;32mTrue\u001b[0m\u001b[0;34m)\u001b[0m\u001b[0;34m\u001b[0m\u001b[0;34m\u001b[0m\u001b[0m\n\u001b[0m",
      "\u001b[0;32m~/.virtualenvs/BioBert/lib64/python3.6/site-packages/pytorch_lightning/trainer/evaluation_loop_mixin.py\u001b[0m in \u001b[0;36mrun_evaluation\u001b[0;34m(self, test)\u001b[0m\n\u001b[1;32m    128\u001b[0m                                          \u001b[0mdataloaders\u001b[0m\u001b[0;34m,\u001b[0m\u001b[0;34m\u001b[0m\u001b[0;34m\u001b[0m\u001b[0m\n\u001b[1;32m    129\u001b[0m                                          \u001b[0mmax_batches\u001b[0m\u001b[0;34m,\u001b[0m\u001b[0;34m\u001b[0m\u001b[0;34m\u001b[0m\u001b[0m\n\u001b[0;32m--> 130\u001b[0;31m                                          test)\n\u001b[0m\u001b[1;32m    131\u001b[0m             _, prog_bar_metrics, log_metrics, callback_metrics, _ = self.process_output(\n\u001b[1;32m    132\u001b[0m                 eval_results)\n",
      "\u001b[0;32m~/.virtualenvs/BioBert/lib64/python3.6/site-packages/pytorch_lightning/trainer/evaluation_loop_mixin.py\u001b[0m in \u001b[0;36mevaluate\u001b[0;34m(self, model, dataloaders, max_batches, test)\u001b[0m\n\u001b[1;32m     70\u001b[0m         \u001b[0mmodel\u001b[0m \u001b[0;34m=\u001b[0m \u001b[0mself\u001b[0m\u001b[0;34m.\u001b[0m\u001b[0mget_model\u001b[0m\u001b[0;34m(\u001b[0m\u001b[0;34m)\u001b[0m\u001b[0;34m\u001b[0m\u001b[0;34m\u001b[0m\u001b[0m\n\u001b[1;32m     71\u001b[0m         \u001b[0;32mif\u001b[0m \u001b[0mtest\u001b[0m \u001b[0;32mand\u001b[0m \u001b[0mself\u001b[0m\u001b[0;34m.\u001b[0m\u001b[0mis_overriden\u001b[0m\u001b[0;34m(\u001b[0m\u001b[0;34m'test_end'\u001b[0m\u001b[0;34m)\u001b[0m\u001b[0;34m:\u001b[0m\u001b[0;34m\u001b[0m\u001b[0;34m\u001b[0m\u001b[0m\n\u001b[0;32m---> 72\u001b[0;31m             \u001b[0meval_results\u001b[0m \u001b[0;34m=\u001b[0m \u001b[0mmodel\u001b[0m\u001b[0;34m.\u001b[0m\u001b[0mtest_end\u001b[0m\u001b[0;34m(\u001b[0m\u001b[0moutputs\u001b[0m\u001b[0;34m)\u001b[0m\u001b[0;34m\u001b[0m\u001b[0;34m\u001b[0m\u001b[0m\n\u001b[0m\u001b[1;32m     73\u001b[0m         \u001b[0;32melif\u001b[0m \u001b[0mself\u001b[0m\u001b[0;34m.\u001b[0m\u001b[0mis_overriden\u001b[0m\u001b[0;34m(\u001b[0m\u001b[0;34m'validation_end'\u001b[0m\u001b[0;34m)\u001b[0m\u001b[0;34m:\u001b[0m\u001b[0;34m\u001b[0m\u001b[0;34m\u001b[0m\u001b[0m\n\u001b[1;32m     74\u001b[0m             \u001b[0meval_results\u001b[0m \u001b[0;34m=\u001b[0m \u001b[0mmodel\u001b[0m\u001b[0;34m.\u001b[0m\u001b[0mvalidation_end\u001b[0m\u001b[0;34m(\u001b[0m\u001b[0moutputs\u001b[0m\u001b[0;34m)\u001b[0m\u001b[0;34m\u001b[0m\u001b[0;34m\u001b[0m\u001b[0m\n",
      "\u001b[0;32m~/TL_Bio_RE/tlbiore/models/ppi_sequence_classifier.py\u001b[0m in \u001b[0;36mtest_end\u001b[0;34m(self, outputs)\u001b[0m\n\u001b[1;32m    188\u001b[0m     \u001b[0;32mdef\u001b[0m \u001b[0mtest_end\u001b[0m\u001b[0;34m(\u001b[0m\u001b[0mself\u001b[0m\u001b[0;34m,\u001b[0m \u001b[0moutputs\u001b[0m\u001b[0;34m)\u001b[0m\u001b[0;34m:\u001b[0m\u001b[0;34m\u001b[0m\u001b[0;34m\u001b[0m\u001b[0m\n\u001b[1;32m    189\u001b[0m         \u001b[0mavg_test_acc\u001b[0m \u001b[0;34m=\u001b[0m \u001b[0mtorch\u001b[0m\u001b[0;34m.\u001b[0m\u001b[0mstack\u001b[0m\u001b[0;34m(\u001b[0m\u001b[0;34m[\u001b[0m\u001b[0mx\u001b[0m\u001b[0;34m[\u001b[0m\u001b[0;34m'test_acc'\u001b[0m\u001b[0;34m]\u001b[0m \u001b[0;32mfor\u001b[0m \u001b[0mx\u001b[0m \u001b[0;32min\u001b[0m \u001b[0moutputs\u001b[0m\u001b[0;34m]\u001b[0m\u001b[0;34m)\u001b[0m\u001b[0;34m.\u001b[0m\u001b[0mmean\u001b[0m\u001b[0;34m(\u001b[0m\u001b[0;34m)\u001b[0m\u001b[0;34m\u001b[0m\u001b[0;34m\u001b[0m\u001b[0m\n\u001b[0;32m--> 190\u001b[0;31m         \u001b[0mavg_test_precision\u001b[0m \u001b[0;34m=\u001b[0m \u001b[0mtorch\u001b[0m\u001b[0;34m.\u001b[0m\u001b[0mstack\u001b[0m\u001b[0;34m(\u001b[0m\u001b[0;34m[\u001b[0m\u001b[0mx\u001b[0m\u001b[0;34m[\u001b[0m\u001b[0;34m'test_precision'\u001b[0m\u001b[0;34m]\u001b[0m \u001b[0;32mfor\u001b[0m \u001b[0mx\u001b[0m \u001b[0;32min\u001b[0m \u001b[0moutputs\u001b[0m\u001b[0;34m]\u001b[0m\u001b[0;34m)\u001b[0m\u001b[0;34m.\u001b[0m\u001b[0mmean\u001b[0m\u001b[0;34m(\u001b[0m\u001b[0;34m)\u001b[0m\u001b[0;34m\u001b[0m\u001b[0;34m\u001b[0m\u001b[0m\n\u001b[0m\u001b[1;32m    191\u001b[0m         \u001b[0mavg_test_recall\u001b[0m \u001b[0;34m=\u001b[0m \u001b[0mtorch\u001b[0m\u001b[0;34m.\u001b[0m\u001b[0mstack\u001b[0m\u001b[0;34m(\u001b[0m\u001b[0;34m[\u001b[0m\u001b[0mx\u001b[0m\u001b[0;34m[\u001b[0m\u001b[0;34m'test_recall'\u001b[0m\u001b[0;34m]\u001b[0m \u001b[0;32mfor\u001b[0m \u001b[0mx\u001b[0m \u001b[0;32min\u001b[0m \u001b[0moutputs\u001b[0m\u001b[0;34m]\u001b[0m\u001b[0;34m)\u001b[0m\u001b[0;34m.\u001b[0m\u001b[0mmean\u001b[0m\u001b[0;34m(\u001b[0m\u001b[0;34m)\u001b[0m\u001b[0;34m\u001b[0m\u001b[0;34m\u001b[0m\u001b[0m\n\u001b[1;32m    192\u001b[0m         \u001b[0mavg_test_fscore\u001b[0m \u001b[0;34m=\u001b[0m \u001b[0mtorch\u001b[0m\u001b[0;34m.\u001b[0m\u001b[0mstack\u001b[0m\u001b[0;34m(\u001b[0m\u001b[0;34m[\u001b[0m\u001b[0mx\u001b[0m\u001b[0;34m[\u001b[0m\u001b[0;34m'test_fscore'\u001b[0m\u001b[0;34m]\u001b[0m \u001b[0;32mfor\u001b[0m \u001b[0mx\u001b[0m \u001b[0;32min\u001b[0m \u001b[0moutputs\u001b[0m\u001b[0;34m]\u001b[0m\u001b[0;34m)\u001b[0m\u001b[0;34m.\u001b[0m\u001b[0mmean\u001b[0m\u001b[0;34m(\u001b[0m\u001b[0;34m)\u001b[0m\u001b[0;34m\u001b[0m\u001b[0;34m\u001b[0m\u001b[0m\n",
      "\u001b[0;31mRuntimeError\u001b[0m: invalid argument 0: Sizes of tensors must match except in dimension 0. Got 2 and 1 in dimension 1 at /pytorch/aten/src/TH/generic/THTensor.cpp:689"
     ]
    }
   ],
   "source": [
    "trainer.test()"
   ]
  },
  {
   "cell_type": "code",
   "execution_count": null,
   "metadata": {
    "scrolled": true
   },
   "outputs": [
    {
     "name": "stderr",
     "output_type": "stream",
     "text": [
      "\r",
      "Testing: 100%|██████████| 91/91 [00:19<00:00, 10.01batch/s]"
     ]
    }
   ],
   "source": [
    "# view tensorboard logs \n",
    "print(f'View tensorboard logs by running\\ntensorboard --logdir {os.getcwd()}')\n",
    "print('and going to http://localhost:6006 on your browser')"
   ]
  },
  {
   "cell_type": "markdown",
   "metadata": {},
   "source": [
    "## Load the model and run test"
   ]
  },
  {
   "cell_type": "code",
   "execution_count": null,
   "metadata": {},
   "outputs": [],
   "source": [
    "from tlbiore.models.ppi_sequence_classifier import BertBiomedicalRE\n",
    "\n",
    "model = BertBiomedicalRE.load_from_metrics(\n",
    "    weights_path='../lightning_logs/version_5/checkpoints/_ckpt_epoch_1.ckpt',\n",
    "    tags_csv='../lightning_logs/version_5/meta_tags.csv'\n",
    ")\n",
    "\n",
    "# init trainer with whatever options\n",
    "trainer = Trainer(max_nb_epochs=MAX_EPOCHS, min_nb_epochs=MIN_EPOCHS, gpus=4, distributed_backend='ddp')\n",
    "\n",
    "# test (pass in the model)\n",
    "trainer.test(model)"
   ]
  },
  {
   "cell_type": "code",
   "execution_count": null,
   "metadata": {},
   "outputs": [],
   "source": [
    "trainer.test()"
   ]
  },
  {
   "cell_type": "code",
   "execution_count": null,
   "metadata": {},
   "outputs": [],
   "source": []
  }
 ],
 "metadata": {
  "accelerator": "GPU",
  "colab": {
   "collapsed_sections": [],
   "name": "BioBERT-RE.ipynb",
   "provenance": [],
   "toc_visible": true
  },
  "kernelspec": {
   "display_name": "Python3 (BioBert)",
   "language": "python",
   "name": "biobert"
  },
  "language_info": {
   "codemirror_mode": {
    "name": "ipython",
    "version": 3
   },
   "file_extension": ".py",
   "mimetype": "text/x-python",
   "name": "python",
   "nbconvert_exporter": "python",
   "pygments_lexer": "ipython3",
   "version": "3.6.9"
  }
 },
 "nbformat": 4,
 "nbformat_minor": 1
}
